{
 "cells": [
  {
   "cell_type": "code",
   "execution_count": 17,
   "metadata": {},
   "outputs": [],
   "source": [
    "import cython\n",
    "import numpy as np"
   ]
  },
  {
   "cell_type": "code",
   "execution_count": 19,
   "metadata": {},
   "outputs": [
    {
     "ename": "SyntaxError",
     "evalue": "invalid syntax (<ipython-input-19-7a1a0a2d7bb4>, line 2)",
     "output_type": "error",
     "traceback": [
      "\u001b[0;36m  File \u001b[0;32m\"<ipython-input-19-7a1a0a2d7bb4>\"\u001b[0;36m, line \u001b[0;32m2\u001b[0m\n\u001b[0;31m    %%cython\u001b[0m\n\u001b[0m    ^\u001b[0m\n\u001b[0;31mSyntaxError\u001b[0m\u001b[0;31m:\u001b[0m invalid syntax\n"
     ]
    }
   ],
   "source": [
    "%load_ext Cython\n",
    "%%cython\n",
    "cimport numpy as np\n",
    "cimport cython\n",
    "ctypedef fused DTYPE_t:\n",
    "    np.float32_t\n",
    "    np.float64_t\n",
    "\n",
    "def col2im_6d_cython(np.ndarray[DTYPE_t, ndim=6] cols, int N, int C, int H, int W,\n",
    "        int HH, int WW, int pad, int stride):\n",
    "    cdef np.ndarray x = np.empty((N, C, H, W), dtype=cols.dtype)\n",
    "    cdef int out_h = (H + 2 * pad - HH) / stride + 1\n",
    "    cdef int out_w = (W + 2 * pad - WW) / stride + 1\n",
    "    cdef np.ndarray[DTYPE_t, ndim=4] x_padded = np.zeros((N, C, H + 2 * pad, W + 2 * pad),\n",
    "                                                  dtype=cols.dtype)\n",
    "\n",
    "    col2im_6d_cython_inner(cols, x_padded, N, C, H, W, HH, WW, out_h, out_w, pad, stride)\n",
    "\n",
    "    if pad > 0:\n",
    "        return x_padded[:, :, pad:-pad, pad:-pad]\n",
    "    return x_padded \n"
   ]
  },
  {
   "cell_type": "code",
   "execution_count": null,
   "metadata": {},
   "outputs": [],
   "source": []
  }
 ],
 "metadata": {
  "kernelspec": {
   "display_name": "Python 3",
   "language": "python",
   "name": "python3"
  },
  "language_info": {
   "codemirror_mode": {
    "name": "ipython",
    "version": 3
   },
   "file_extension": ".py",
   "mimetype": "text/x-python",
   "name": "python",
   "nbconvert_exporter": "python",
   "pygments_lexer": "ipython3",
   "version": "3.6.4"
  }
 },
 "nbformat": 4,
 "nbformat_minor": 2
}
