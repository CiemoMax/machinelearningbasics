{
 "cells": [
  {
   "cell_type": "code",
   "execution_count": 1,
   "metadata": {},
   "outputs": [
    {
     "name": "stdout",
     "output_type": "stream",
     "text": [
      "LinearClassifier.ipynb               \u001b[30m\u001b[43mcs231n\u001b[m\u001b[m/\r\n",
      "RunClassifiers.ipynb                 gradient_check.ipynb\r\n",
      "SVM.ipynb                            k_Nearest Neighbor Classifier.ipynb\r\n",
      "Softmax.ipynb\r\n"
     ]
    }
   ],
   "source": [
    "ls"
   ]
  },
  {
   "cell_type": "code",
   "execution_count": null,
   "metadata": {},
   "outputs": [],
   "source": [
    "# cd Documents/GitHub/machinelearningbasics/Stanfordcs231n/"
   ]
  },
  {
   "cell_type": "code",
   "execution_count": 1,
   "metadata": {},
   "outputs": [
    {
     "name": "stdout",
     "output_type": "stream",
     "text": [
      "importing Jupyter notebook from LossF_SVM.ipynb\n",
      "The autoreload extension is already loaded. To reload it, use:\n",
      "  %reload_ext autoreload\n",
      "(500, 3073) (100, 3073) (100, 3073) (50, 3073)\n",
      "loss: 8.993332\n",
      "(3073, 10)\n",
      "grad: [[-31.36    56.4464 -14.7536]]\n",
      "loss_v: 8.993332\n",
      "(3073, 10)\n",
      "grad_v: [[-31.36    56.4464 -14.7536]]\n",
      "numerical: 19.979200 analytic: 19.979200, relative error: 1.167561e-11\n",
      "numerical: 25.474800 analytic: 25.474800, relative error: 6.975018e-12\n",
      "numerical: 72.830400 analytic: 72.830400, relative error: 1.914055e-12\n",
      "numerical: -21.512800 analytic: -21.512800, relative error: 5.244484e-12\n",
      "numerical: 1.378800 analytic: 1.378800, relative error: 8.412025e-13\n",
      "numerical: 1.621600 analytic: 1.621600, relative error: 9.982559e-12\n",
      "numerical: -5.053600 analytic: -5.053600, relative error: 7.506616e-12\n",
      "numerical: 14.856400 analytic: 14.856400, relative error: 2.337743e-12\n",
      "numerical: 14.798400 analytic: 14.798400, relative error: 7.121920e-12\n",
      "numerical: 48.833600 analytic: 48.833600, relative error: 1.781318e-12\n",
      "numerical: -15.678174 analytic: -15.678174, relative error: 1.092898e-11\n",
      "numerical: -15.863946 analytic: -15.863946, relative error: 2.755971e-12\n",
      "numerical: -14.042538 analytic: -14.042538, relative error: 3.665540e-12\n",
      "numerical: -7.022504 analytic: -7.022504, relative error: 1.661250e-11\n",
      "numerical: 13.881686 analytic: 13.881686, relative error: 8.755621e-12\n",
      "numerical: 9.885151 analytic: 9.885151, relative error: 4.959347e-12\n",
      "numerical: 11.005331 analytic: 11.005331, relative error: 1.693154e-11\n",
      "numerical: 19.048946 analytic: 19.048946, relative error: 3.041142e-12\n",
      "numerical: -15.178493 analytic: -15.178493, relative error: 5.424395e-12\n",
      "numerical: 19.269557 analytic: 19.269557, relative error: 4.878779e-12\n",
      "Naive loss: 8.993332e+00 computed in 0.006316s\n",
      "Vectorized loss: 8.993332e+00 computed in 0.001163s\n",
      "difference: -0.000000\n",
      "Naive loss and gradient: computed in 0.006933s\n",
      "[[ -3.13600000e+01   5.64464000e+01  -1.47536000e+01 ...,   4.64640000e+00\n",
      "   -4.14696000e+01  -1.46632000e+01]\n",
      " [ -4.05200000e+01   5.45000000e+01  -1.25000000e+01 ...,  -1.10000000e+00\n",
      "   -5.69500000e+01  -2.07300000e+01]\n",
      " [ -6.37800000e+01   4.93184000e+01  -1.28160000e+00 ...,   1.39184000e+01\n",
      "   -7.27276000e+01  -7.48292000e+01]\n",
      " ..., \n",
      " [ -6.64000000e+00   2.11568000e+01  -1.04432000e+01 ...,   4.35680000e+00\n",
      "    1.51648000e+01  -1.54384000e+01]\n",
      " [  1.58400000e+01   1.74232000e+01  -6.57680000e+00 ...,   1.62232000e+01\n",
      "   -1.83480000e+00  -4.82516000e+01]\n",
      " [  3.59002851e-10   4.00000000e-01   4.00000000e-01 ...,   4.00000000e-01\n",
      "   -6.00000000e-01  -2.00000000e-01]]\n",
      "Vectorized loss and gradient: computed in 0.001045s\n",
      "[[ -3.13600000e+01   5.64464000e+01  -1.47536000e+01 ...,   4.64640000e+00\n",
      "   -4.14696000e+01  -1.46632000e+01]\n",
      " [ -4.05200000e+01   5.45000000e+01  -1.25000000e+01 ...,  -1.10000000e+00\n",
      "   -5.69500000e+01  -2.07300000e+01]\n",
      " [ -6.37800000e+01   4.93184000e+01  -1.28160000e+00 ...,   1.39184000e+01\n",
      "   -7.27276000e+01  -7.48292000e+01]\n",
      " ..., \n",
      " [ -6.64000000e+00   2.11568000e+01  -1.04432000e+01 ...,   4.35680000e+00\n",
      "    1.51648000e+01  -1.54384000e+01]\n",
      " [  1.58400000e+01   1.74232000e+01  -6.57680000e+00 ...,   1.62232000e+01\n",
      "   -1.83480000e+00  -4.82516000e+01]\n",
      " [  3.59002851e-10   4.00000000e-01   4.00000000e-01 ...,   4.00000000e-01\n",
      "   -6.00000000e-01  -2.00000000e-01]]\n",
      "difference: 0.000000\n",
      "importing Jupyter notebook from Linear_Classifier.ipynb\n",
      "importing Jupyter notebook from LossF_Softmax.ipynb\n",
      "The autoreload extension is already loaded. To reload it, use:\n",
      "  %reload_ext autoreload\n",
      "(500, 3073) (100, 3073) (100, 3073) (50, 3073)\n",
      "loss_n: 16.050921\n",
      "grad: [[ -6.44039894   8.38574678  -2.84835867  -4.58619854  10.6297056 ]\n",
      " [ -8.12200204   9.29489718  -3.00660823  -4.169579    10.91847366]]\n",
      "loss_v: 16.050921\n",
      "grad: [[ -6.44039894   8.38574678  -2.84835867  -4.58619854  10.6297056 ]\n",
      " [ -8.12200204   9.29489718  -3.00660823  -4.169579    10.91847366]]\n",
      "numerical: 3.173834 analytic: 3.173851, relative error: 2.719308e-06\n",
      "numerical: 5.064363 analytic: 5.064372, relative error: 8.148879e-07\n",
      "numerical: -1.454160 analytic: -1.454143, relative error: 5.812573e-06\n",
      "numerical: 1.349064 analytic: 1.349069, relative error: 2.169981e-06\n",
      "numerical: 3.561211 analytic: 3.561244, relative error: 4.558345e-06\n",
      "numerical: 5.835045 analytic: 5.835089, relative error: 3.766449e-06\n",
      "numerical: -7.537696 analytic: -7.537647, relative error: 3.220028e-06\n",
      "numerical: 2.078296 analytic: 2.078327, relative error: 7.480506e-06\n",
      "numerical: -0.030458 analytic: -0.030433, relative error: 4.136106e-04\n",
      "numerical: 2.055379 analytic: 2.055414, relative error: 8.342150e-06\n",
      "numerical: -2.574466 analytic: -2.574465, relative error: 9.689378e-08\n",
      "numerical: -2.342386 analytic: -2.342384, relative error: 3.717424e-07\n",
      "numerical: -0.036858 analytic: -0.036853, relative error: 7.609192e-05\n",
      "numerical: -0.789051 analytic: -0.789005, relative error: 2.907156e-05\n",
      "numerical: 17.029841 analytic: 17.029873, relative error: 9.156736e-07\n",
      "numerical: 3.110908 analytic: 3.110912, relative error: 6.692738e-07\n",
      "numerical: 2.489943 analytic: 2.489945, relative error: 3.392953e-07\n",
      "numerical: -5.279186 analytic: -5.279176, relative error: 9.188841e-07\n",
      "numerical: -0.089452 analytic: -0.089428, relative error: 1.326787e-04\n",
      "numerical: -4.871910 analytic: -4.871896, relative error: 1.478711e-06\n",
      "Naive loss: 1.605092e+01 computed in 0.005320s\n",
      "Vectorized loss: 1.605092e+01 computed in 0.001039s\n",
      "difference: -0.000000\n",
      "imported\n"
     ]
    }
   ],
   "source": [
    "from __future__ import print_function\n",
    "import matplotlib.pyplot as plt\n",
    "import numpy as np\n",
    "from random import shuffle\n",
    "from random import randrange\n",
    "import time \n",
    "\n",
    "%matplotlib inline\n",
    "plt.rcParams['figure.figsize'] = (10.0, 8.0) # set default size of plots\n",
    "plt.rcParams['image.interpolation'] = 'nearest'\n",
    "plt.rcParams['image.cmap'] = 'gray'\n",
    "# for ipython, use: %matplotlib osx\n",
    "\n",
    "%load_ext autoreload\n",
    "%autoreload 2\n",
    "\n",
    "from cs231n.data_utils import load_CIFAR10\n",
    "import import_ipynb\n",
    "import LossF_SVM\n",
    "import Linear_Classifier"
   ]
  },
  {
   "cell_type": "code",
   "execution_count": 6,
   "metadata": {},
   "outputs": [
    {
     "name": "stdout",
     "output_type": "stream",
     "text": [
      "(500, 3073) (100, 3073) (100, 3073) (50, 3073)\n"
     ]
    }
   ],
   "source": [
    "### Load the raw CIFAR-10 data.\n",
    "cifar10_dir = '/Users/xiaoxiaoma/cifar-10-batches-py'\n",
    "\n",
    "# Cleaning up variables to prevent loading data multiple times (which \\\n",
    "# may cause memory issue)\n",
    "try:\n",
    "    del X_train, y_train\n",
    "    del X_test, y_test\n",
    "    print('Clear previously loaded data.')\n",
    "except:\n",
    "    pass\n",
    "X_train, y_train, X_test, y_test = load_CIFAR10(cifar10_dir)\n",
    "\n",
    "\n",
    "### Subsample the data for more efficient code execution in this exercise\n",
    "mask = 0\n",
    "num_train = 500\n",
    "num_test = 100\n",
    "num_val = 100\n",
    "num_dev = 50\n",
    "\n",
    "mask = range(num_train, num_train + num_val)\n",
    "X_val = X_train[mask]\n",
    "y_val = y_train[mask]\n",
    "\n",
    "mask = range(num_train)\n",
    "X_train = X_train[mask]\n",
    "y_train = y_train[mask]\n",
    "\n",
    "mask = np.random.choice(num_train, num_dev, replace=False)\n",
    "X_dev = X_train[mask]\n",
    "y_dev = y_train[mask]\n",
    "\n",
    "mask = range(num_test)\n",
    "X_test = X_test[mask]\n",
    "y_test = y_test[mask]\n",
    "\n",
    "\n",
    "### Reshape the image data into rows\n",
    "# print (X_train.shape[0])\n",
    "X_train = np.reshape(X_train, (X_train.shape[0], -1))\n",
    "X_val = np.reshape(X_val, (X_val.shape[0], -1))\n",
    "X_dev = np.reshape(X_dev, (X_dev.shape[0], -1))\n",
    "X_test = np.reshape(X_test, (X_test.shape[0], -1))\n",
    "\n",
    "\n",
    "### Preprocessing: subtract the mean image\n",
    "# first: compute the image mean based on the training data\n",
    "mean_image = np.mean(X_train, axis=0)\n",
    "# print(mean_image[:10]) # print a few of the elements\n",
    "# plt.figure(figsize=(4,4))\n",
    "# plt.imshow(mean_image.reshape((32,32,3)).astype('uint8')) \n",
    "# visualize the mean image\n",
    "# plt.show()\n",
    "\n",
    "# second: subtract the mean image from train and test data\n",
    "X_train -= mean_image\n",
    "X_val -= mean_image\n",
    "X_test -= mean_image\n",
    "X_dev -= mean_image\n",
    "\n",
    "# third: append the bias dimension of ones (i.e. bias trick) so that our \n",
    "# SVM only has to worry about optimizing a single weight matrix W.\n",
    "X_train = np.hstack([X_train, np.ones((X_train.shape[0], 1))])\n",
    "X_val = np.hstack([X_val, np.ones((X_val.shape[0], 1))])\n",
    "X_test = np.hstack([X_test, np.ones((X_test.shape[0], 1))])\n",
    "X_dev = np.hstack([X_dev, np.ones((X_dev.shape[0], 1))])\n",
    "\n",
    "print(X_train.shape, X_val.shape, X_test.shape, X_dev.shape)\n",
    "\n",
    "# generate a random SVM weight matrix of small numbers, W\n",
    "def init_W(X, y):\n",
    "    W = np.random.rand(X.shape[1], np.max(y) + 1) * 0.001\n",
    "    return W"
   ]
  },
  {
   "cell_type": "markdown",
   "metadata": {},
   "source": [
    "### Stochastic Gradient Descent"
   ]
  },
  {
   "cell_type": "markdown",
   "metadata": {},
   "source": [
    "#### Linear Classifiler: SVM"
   ]
  },
  {
   "cell_type": "code",
   "execution_count": 104,
   "metadata": {},
   "outputs": [
    {
     "name": "stdout",
     "output_type": "stream",
     "text": [
      "The autoreload extension is already loaded. To reload it, use:\n",
      "  %reload_ext autoreload\n",
      "Clear previously loaded data.\n",
      "(500, 3073) (100, 3073) (100, 3073) (50, 3073)\n",
      "loss: 8.933813\n",
      "(3073, 10)\n",
      "grad: [[-24.8768 -83.18    17.42  ]]\n",
      "loss_v: 8.933813\n",
      "(3073, 10)\n",
      "grad_v: [[-24.8768 -83.18    17.42  ]]\n",
      "numerical: 9.879200 analytic: 9.879200, relative error: 1.557324e-11\n",
      "numerical: -7.539200 analytic: -7.539200, relative error: 3.114138e-12\n",
      "numerical: 56.671200 analytic: 56.671200, relative error: 2.339275e-12\n",
      "numerical: 11.570400 analytic: 11.570400, relative error: 4.444577e-14\n",
      "numerical: 3.240000 analytic: 3.240000, relative error: 4.289806e-11\n",
      "numerical: 63.821600 analytic: 63.821600, relative error: 1.285502e-12\n",
      "numerical: 12.836000 analytic: 12.836000, relative error: 1.990444e-12\n",
      "numerical: 9.148400 analytic: 9.148400, relative error: 3.021412e-11\n",
      "numerical: 29.020000 analytic: 29.020000, relative error: 3.944406e-12\n",
      "numerical: 16.641600 analytic: 16.641600, relative error: 1.482774e-11\n",
      "numerical: -14.878128 analytic: -14.878128, relative error: 9.017459e-12\n",
      "numerical: -40.253195 analytic: -40.253195, relative error: 1.524589e-12\n",
      "numerical: 2.942599 analytic: 2.942599, relative error: 2.786319e-11\n",
      "numerical: 41.720848 analytic: 41.720848, relative error: 2.611515e-12\n",
      "numerical: -18.246537 analytic: -18.246537, relative error: 3.195129e-12\n",
      "numerical: 94.558719 analytic: 94.558719, relative error: 3.156758e-13\n",
      "numerical: -6.567038 analytic: -6.567038, relative error: 1.775921e-11\n",
      "numerical: 33.442356 analytic: 33.442356, relative error: 3.071755e-12\n",
      "numerical: -10.498617 analytic: -10.498617, relative error: 5.199743e-12\n",
      "numerical: -51.659491 analytic: -51.659491, relative error: 2.062327e-12\n",
      "Naive loss: 8.933813e+00 computed in 0.006167s\n",
      "Vectorized loss: 8.933813e+00 computed in 0.001006s\n",
      "difference: -0.000000\n",
      "Naive loss and gradient: computed in 0.006322s\n",
      "[[-2.48768000e+01 -8.31800000e+01  1.74200000e+01 ...  3.99104000e+01\n",
      "   4.20000000e-01 -5.18704000e+01]\n",
      " [-2.41700000e+01 -6.65800000e+01  1.40200000e+01 ...  2.89900000e+01\n",
      "  -1.17800000e+01 -4.59500000e+01]\n",
      " [-4.53308000e+01 -7.35800000e+01  4.38200000e+01 ...  2.30724000e+01\n",
      "  -4.03800000e+01 -5.20324000e+01]\n",
      " ...\n",
      " [-1.03016000e+01 -5.21000000e+01  5.50000000e+00 ...  1.93048000e+01\n",
      "   1.41000000e+01  7.29520000e+00]\n",
      " [-2.78684000e+01 -7.23600000e+01  3.26400000e+01 ...  3.61652000e+01\n",
      "  -9.36000000e+00 -8.85200000e-01]\n",
      " [ 2.00000000e-01  4.24859330e-10  2.17481851e-10 ... -6.00000000e-01\n",
      "   4.63796858e-10  6.00000000e-01]]\n",
      "Vectorized loss and gradient: computed in 0.000813s\n",
      "[[-2.48768000e+01 -8.31800000e+01  1.74200000e+01 ...  3.99104000e+01\n",
      "   4.20000000e-01 -5.18704000e+01]\n",
      " [-2.41700000e+01 -6.65800000e+01  1.40200000e+01 ...  2.89900000e+01\n",
      "  -1.17800000e+01 -4.59500000e+01]\n",
      " [-4.53308000e+01 -7.35800000e+01  4.38200000e+01 ...  2.30724000e+01\n",
      "  -4.03800000e+01 -5.20324000e+01]\n",
      " ...\n",
      " [-1.03016000e+01 -5.21000000e+01  5.50000000e+00 ...  1.93048000e+01\n",
      "   1.41000000e+01  7.29520000e+00]\n",
      " [-2.78684000e+01 -7.23600000e+01  3.26400000e+01 ...  3.61652000e+01\n",
      "  -9.36000000e+00 -8.85200000e-01]\n",
      " [ 2.00000000e-01  4.24859330e-10  2.17481851e-10 ... -6.00000000e-01\n",
      "   4.63796858e-10  6.00000000e-01]]\n",
      "difference: 0.000000\n"
     ]
    }
   ],
   "source": [
    "%run LossF_SVM.ipynb"
   ]
  },
  {
   "cell_type": "code",
   "execution_count": 106,
   "metadata": {},
   "outputs": [
    {
     "name": "stdout",
     "output_type": "stream",
     "text": [
      "iteration 0 / 1500: loss 782.116003\n",
      "iteration 100 / 1500: loss 467.532745\n",
      "iteration 200 / 1500: loss 283.723086\n",
      "iteration 300 / 1500: loss 171.389090\n",
      "iteration 400 / 1500: loss 104.998404\n",
      "iteration 500 / 1500: loss 64.507380\n",
      "iteration 600 / 1500: loss 40.404228\n",
      "iteration 700 / 1500: loss 25.367999\n",
      "iteration 800 / 1500: loss 17.105300\n",
      "iteration 900 / 1500: loss 11.542250\n",
      "iteration 1000 / 1500: loss 8.384291\n",
      "iteration 1100 / 1500: loss 6.210574\n",
      "iteration 1200 / 1500: loss 5.291285\n",
      "iteration 1300 / 1500: loss 4.343547\n",
      "iteration 1400 / 1500: loss 3.827068\n",
      "That took 1.143138s\n"
     ]
    }
   ],
   "source": [
    "svm = LinearSVM()\n",
    "tic = time.time()\n",
    "loss_hist = svm.train(X_train, y_train, learning_rate=1e-7, reg=2.5e4,\n",
    "                      num_iters=1500, batch_size = 50, verbose=True)\n",
    "toc = time.time()\n",
    "print('That took %fs' % (toc - tic))"
   ]
  },
  {
   "cell_type": "code",
   "execution_count": 107,
   "metadata": {},
   "outputs": [
    {
     "data": {
      "image/png": "[encoded data removed]",
      "text/plain": [
       "<matplotlib.figure.Figure at 0x108dfb668>"
      ]
     },
     "metadata": {},
     "output_type": "display_data"
    }
   ],
   "source": [
    "plt.plot(loss_hist)\n",
    "plt.xlabel('Iteration number')\n",
    "plt.ylabel('Loss value')\n",
    "plt.show()"
   ]
  },
  {
   "cell_type": "code",
   "execution_count": 108,
   "metadata": {},
   "outputs": [
    {
     "name": "stdout",
     "output_type": "stream",
     "text": [
      "training accuracy: 0.830000\n",
      "validation accuracy: 0.310000\n"
     ]
    }
   ],
   "source": [
    "# Write the LinearSVM.predict function and evaluate the performance on both the\n",
    "# training and validation set\n",
    "y_train_pred = svm.predict(X_train)\n",
    "print('training accuracy: %f' % (np.mean(y_train == y_train_pred), ))\n",
    "y_val_pred = svm.predict(X_val)\n",
    "print('validation accuracy: %f' % (np.mean(y_val == y_val_pred), ))"
   ]
  },
  {
   "cell_type": "code",
   "execution_count": 109,
   "metadata": {},
   "outputs": [
    {
     "name": "stdout",
     "output_type": "stream",
     "text": [
      "imported\n"
     ]
    }
   ],
   "source": [
    "%run Linear_Classifier.ipynb"
   ]
  },
  {
   "cell_type": "code",
   "execution_count": 117,
   "metadata": {},
   "outputs": [
    {
     "name": "stdout",
     "output_type": "stream",
     "text": [
      "iteration 0 / 500: loss 795.069448\n",
      "iteration 100 / 500: loss 470.113690\n",
      "iteration 200 / 500: loss 284.349712\n",
      "iteration 300 / 500: loss 172.857998\n",
      "iteration 400 / 500: loss 105.196324\n",
      "iteration 0 / 500: loss 128.068537\n",
      "iteration 100 / 500: loss 49.235080\n",
      "iteration 200 / 500: loss 20.644224\n",
      "iteration 300 / 500: loss 10.158673\n",
      "iteration 400 / 500: loss 6.468520\n",
      "iteration 0 / 500: loss 3.281305\n",
      "iteration 100 / 500: loss 1536.161674\n",
      "iteration 200 / 500: loss 1471.448363\n",
      "iteration 300 / 500: loss 1689.128085\n",
      "iteration 400 / 500: loss 1117.627135\n",
      "iteration 0 / 500: loss 2497.712402\n",
      "iteration 100 / 500: loss 2020643812982138114188767486433074085888.000000\n",
      "iteration 200 / 500: loss 333996239108923425831732000421638564909403173430842831777621542579336118272.000000\n",
      "iteration 300 / 500: loss 55206903375152746640774017902953743147063927241336503431080304136958101374482191678715174910387256159209783296.000000\n",
      "iteration 400 / 500: loss 9125258980175215444299407370803391697590491981177696324611337234016580706871035271930549886545695133610736596543824883956967555045769554002182144.000000\n",
      "iteration 0 / 1500: loss 1580.789368\n",
      "iteration 100 / 1500: loss 574.303191\n",
      "iteration 200 / 1500: loss 211.943338\n",
      "iteration 300 / 1500: loss 79.757397\n",
      "iteration 400 / 1500: loss 31.779163\n",
      "iteration 500 / 1500: loss 14.246066\n",
      "iteration 600 / 1500: loss 7.993564\n",
      "iteration 700 / 1500: loss 5.613243\n",
      "iteration 800 / 1500: loss 4.738464\n",
      "iteration 900 / 1500: loss 4.278013\n",
      "iteration 1000 / 1500: loss 4.358902\n",
      "iteration 1100 / 1500: loss 4.319171\n",
      "iteration 1200 / 1500: loss 4.182029\n",
      "iteration 1300 / 1500: loss 4.186037\n",
      "iteration 1400 / 1500: loss 4.356839\n",
      "lr 1.000000e-07 reg 2.500000e+04 train accuracy: 0.606000 val accuracy: 0.310000\n",
      "lr 1.000000e-07 reg 5.000000e+04 train accuracy: 0.730000 val accuracy: 0.360000\n",
      "lr 5.000000e-05 reg 2.500000e+04 train accuracy: 0.222000 val accuracy: 0.240000\n",
      "lr 5.000000e-05 reg 5.000000e+04 train accuracy: 0.186000 val accuracy: 0.170000\n",
      "best validation accuracy achieved during cross-validation: 0.340000\n"
     ]
    }
   ],
   "source": [
    "# Use the validation set to tune hyperparameters (regularization strength and\n",
    "# learning rate). You should experiment with different ranges for the learning\n",
    "# rates and regularization strengths; if you are careful you should be able to\n",
    "# get a classification accuracy of about 0.4 on the validation set.\n",
    "learning_rates = [1e-7, 5e-5]\n",
    "regularization_strengths = [2.5e4, 5e4]\n",
    "\n",
    "# results is dictionary mapping tuples of the form\n",
    "# (learning_rate, regularization_strength) to tuples of the form\n",
    "# (training_accuracy, validation_accuracy). The accuracy is simply the fraction\n",
    "# of data points that are correctly classified.\n",
    "results = {}\n",
    "best_val = -1   # The highest validation accuracy that we have seen so far.\n",
    "best_svm = None # The LinearSVM object that achieved the highest validation rate.\n",
    "\n",
    "################################################################################\n",
    "# Write code that chooses the best hyperparameters by tuning on the validation #\n",
    "# set. For each combination of hyperparameters, train a linear SVM on the      #\n",
    "# training set, compute its accuracy on the training and validation sets, and  #\n",
    "# store these numbers in the results dictionary. In addition, store the best   #\n",
    "# validation accuracy in best_val and the LinearSVM object that achieves this  #\n",
    "# accuracy in best_svm.                                                        #\n",
    "#                                                                              #\n",
    "# Hint: You should use a small value for num_iters as you develop your         #\n",
    "# validation code so that the SVMs don't take much time to train; once you are #\n",
    "# confident that your validation code works, you should rerun the validation   #\n",
    "# code with a larger value for num_iters.                                      #\n",
    "################################################################################\n",
    "##--------------------- written by me start ---------------------##\n",
    "hyper = ()\n",
    "best_hyper = ()\n",
    "result = ()\n",
    "svm = LinearSVM()\n",
    "best_svm = LinearSVM()\n",
    "\n",
    "for learning_rate in learning_rates:\n",
    "    for regularization_strength in regularization_strengths:\n",
    "        hyper = (learning_rate, regularization_strength)\n",
    "        loss_hist_train = svm.train(X_train, y_train, learning_rate = learning_rate, \\\n",
    "                                    reg = regularization_strength,num_iters = 500, \\\n",
    "                                    batch_size = 200, verbose=True)\n",
    "        \n",
    "        y_train_pred = svm.predict(X_train)\n",
    "        training_accuracy = np.mean(y_train == y_train_pred)\n",
    "        \n",
    "        y_val_pred = svm.predict(X_val)\n",
    "        validation_accuracy = np.mean(y_val == y_val_pred)\n",
    "        \n",
    "        result = (training_accuracy, validation_accuracy)\n",
    "        results[hyper] = result\n",
    "        \n",
    "        if validation_accuracy > best_val:\n",
    "            best_val = validation_accuracy\n",
    "            best_hyper = hyper\n",
    "        \n",
    "final_loss = best_svm.train(X_train, y_train, learning_rate = best_hyper[0], \\\n",
    "                            reg = best_hyper[1], num_iters = 1500, batch_size = 200, \\\n",
    "                            verbose = True)        \n",
    "final_y_val_pred = best_svm.predict(X_val)\n",
    "best_val = np.mean(y_val == final_y_val_pred)\n",
    "\n",
    "##--------------------- written by me end -----------------------##\n",
    "    \n",
    "# Print out results.\n",
    "for lr, reg in sorted(results):\n",
    "    train_accuracy, val_accuracy = results[(lr, reg)]\n",
    "    print('lr %e reg %e train accuracy: %f val accuracy: %f' % (\n",
    "                lr, reg, train_accuracy, val_accuracy))\n",
    "    \n",
    "print('best validation accuracy achieved during cross-validation: %f' % best_val)\n",
    "print('best hyperparameters are: {0}'.format(best_hyper))"
   ]
  },
  {
   "cell_type": "code",
   "execution_count": 114,
   "metadata": {},
   "outputs": [
    {
     "data": {
      "image/png": "[encoded data removed]",
      "text/plain": [
       "<matplotlib.figure.Figure at 0x1080c0e80>"
      ]
     },
     "metadata": {},
     "output_type": "display_data"
    }
   ],
   "source": [
    "# Visualize the cross-validation results\n",
    "import math\n",
    "x_scatter = [math.log10(x[0]) for x in results]\n",
    "y_scatter = [math.log10(x[1]) for x in results]\n",
    "\n",
    "# plot training accuracy\n",
    "marker_size = 100\n",
    "colors = [results[x][0] for x in results]\n",
    "plt.subplot(2, 1, 1)\n",
    "plt.scatter(x_scatter, y_scatter, marker_size, c=colors)\n",
    "plt.colorbar()\n",
    "plt.xlabel('log learning rate')\n",
    "plt.ylabel('log regularization strength')\n",
    "plt.title('CIFAR-10 training accuracy')\n",
    "\n",
    "# plot validation accuracy\n",
    "colors = [results[x][1] for x in results] # default size of markers is 20\n",
    "plt.subplot(2, 1, 2)\n",
    "plt.scatter(x_scatter, y_scatter, marker_size, c=colors)\n",
    "plt.colorbar()\n",
    "plt.xlabel('log learning rate')\n",
    "plt.ylabel('log regularization strength')\n",
    "plt.title('CIFAR-10 validation accuracy')\n",
    "plt.show()"
   ]
  },
  {
   "cell_type": "code",
   "execution_count": 119,
   "metadata": {},
   "outputs": [
    {
     "name": "stdout",
     "output_type": "stream",
     "text": [
      "linear SVM on raw pixels final test set accuracy: 0.260000\n"
     ]
    }
   ],
   "source": [
    "# Evaluate the best svm on test set\n",
    "y_test_pred = best_svm.predict(X_test)\n",
    "test_accuracy = np.mean(y_test == y_test_pred)\n",
    "print('linear SVM on raw pixels final test set accuracy: %f' % test_accuracy)"
   ]
  },
  {
   "cell_type": "code",
   "execution_count": 116,
   "metadata": {},
   "outputs": [
    {
     "data": {
      "image/png": "[encoded data removed]",
      "text/plain": [
       "<matplotlib.figure.Figure at 0x181ae60ba8>"
      ]
     },
     "metadata": {},
     "output_type": "display_data"
    }
   ],
   "source": [
    "# Visualize the learned weights for each class.\n",
    "# Depending on your choice of learning rate and regularization strength, these may\n",
    "# or may not be nice to look at.\n",
    "w = best_svm.W[:-1,:] # strip out the bias\n",
    "w = w.reshape(32, 32, 3, 10)\n",
    "w_min, w_max = np.min(w), np.max(w)\n",
    "classes = ['plane', 'car', 'bird', 'cat', 'deer', 'dog', 'frog', 'horse', 'ship', 'truck']\n",
    "for i in range(10):\n",
    "    plt.subplot(2, 5, i + 1)\n",
    "      \n",
    "    # Rescale the weights to be between 0 and 255\n",
    "    wimg = 255.0 * (w[:, :, :, i].squeeze() - w_min) / (w_max - w_min)\n",
    "    plt.imshow(wimg.astype('uint8'))\n",
    "    plt.axis('off')\n",
    "    plt.title(classes[i])"
   ]
  },
  {
   "cell_type": "markdown",
   "metadata": {},
   "source": [
    "#### Linear Classifier: softmax"
   ]
  },
  {
   "cell_type": "code",
   "execution_count": 121,
   "metadata": {},
   "outputs": [
    {
     "name": "stdout",
     "output_type": "stream",
     "text": [
      "The autoreload extension is already loaded. To reload it, use:\n",
      "  %reload_ext autoreload\n",
      "Clear previously loaded data.\n",
      "(500, 3073) (100, 3073) (100, 3073) (50, 3073)\n",
      "loss_n: 16.178918\n",
      "grad: [[  4.52150038  -0.73705545   3.94727531   2.63550557 -11.25153574]\n",
      " [  3.44880791   0.02168551   4.29482044   9.0591652  -11.72758929]]\n",
      "loss_v: 16.178918\n",
      "grad: [[  4.52150038  -0.73705545   3.94727531   2.63550557 -11.25153574]\n",
      " [  3.44880791   0.02168551   4.29482044   9.0591652  -11.72758929]]\n",
      "numerical: -1.513407 analytic: -1.513359, relative error: 1.568379e-05\n",
      "numerical: 0.195380 analytic: 0.195387, relative error: 1.836222e-05\n",
      "numerical: -6.111904 analytic: -6.111879, relative error: 2.060156e-06\n",
      "numerical: 0.312564 analytic: 0.312587, relative error: 3.740866e-05\n",
      "numerical: 2.832961 analytic: 2.832992, relative error: 5.484992e-06\n",
      "numerical: 4.948593 analytic: 4.948603, relative error: 1.045604e-06\n",
      "numerical: -6.086886 analytic: -6.086880, relative error: 4.856693e-07\n",
      "numerical: -2.142378 analytic: -2.142334, relative error: 1.029080e-05\n",
      "numerical: 4.364044 analytic: 4.364058, relative error: 1.616511e-06\n",
      "numerical: 3.373395 analytic: 3.373416, relative error: 3.118330e-06\n",
      "numerical: 1.973928 analytic: 1.973943, relative error: 3.905028e-06\n",
      "numerical: 5.681206 analytic: 5.681255, relative error: 4.295634e-06\n",
      "numerical: 4.801915 analytic: 4.801921, relative error: 5.988898e-07\n",
      "numerical: -7.106959 analytic: -7.106957, relative error: 1.468501e-07\n",
      "numerical: 1.936557 analytic: 1.936578, relative error: 5.211629e-06\n",
      "numerical: -3.305419 analytic: -3.305416, relative error: 3.804498e-07\n",
      "numerical: -4.828312 analytic: -4.828300, relative error: 1.235846e-06\n",
      "numerical: -5.200719 analytic: -5.200705, relative error: 1.337585e-06\n",
      "numerical: 6.766264 analytic: 6.766309, relative error: 3.348014e-06\n",
      "numerical: 7.633798 analytic: 7.633831, relative error: 2.140045e-06\n",
      "Naive loss: 1.617892e+01 computed in 0.004188s\n",
      "Vectorized loss: 1.617892e+01 computed in 0.000841s\n",
      "difference: -0.000000\n"
     ]
    }
   ],
   "source": [
    "%run LossF_Softmax.ipynb"
   ]
  },
  {
   "cell_type": "code",
   "execution_count": 122,
   "metadata": {},
   "outputs": [
    {
     "name": "stdout",
     "output_type": "stream",
     "text": [
      "imported\n"
     ]
    }
   ],
   "source": [
    "%run Linear_Classifier.ipynb"
   ]
  },
  {
   "cell_type": "code",
   "execution_count": 123,
   "metadata": {},
   "outputs": [
    {
     "name": "stdout",
     "output_type": "stream",
     "text": [
      "iteration 0 / 1500: loss 382.826756\n",
      "iteration 100 / 1500: loss 230.889956\n",
      "iteration 200 / 1500: loss 140.496426\n",
      "iteration 300 / 1500: loss 85.597194\n",
      "iteration 400 / 1500: loss 52.378536\n",
      "iteration 500 / 1500: loss 32.661286\n",
      "iteration 600 / 1500: loss 20.429005\n",
      "iteration 700 / 1500: loss 13.136142\n",
      "iteration 800 / 1500: loss 8.357368\n",
      "iteration 900 / 1500: loss 5.818792\n",
      "iteration 1000 / 1500: loss 4.387140\n",
      "iteration 1100 / 1500: loss 3.230439\n",
      "iteration 1200 / 1500: loss 2.808230\n",
      "iteration 1300 / 1500: loss 2.423874\n",
      "iteration 1400 / 1500: loss 2.230565\n",
      "That took 0.935960s\n"
     ]
    },
    {
     "data": {
      "image/png": "[encoded data removed]",
      "text/plain": [
       "<matplotlib.figure.Figure at 0x107ebf9b0>"
      ]
     },
     "metadata": {},
     "output_type": "display_data"
    }
   ],
   "source": [
    "softmax = Softmax()\n",
    "tic = time.time()\n",
    "loss_hist = softmax.train(X_train, y_train, learning_rate=1e-7, reg=2.5e4,\n",
    "                      num_iters=1500, batch_size = 50, verbose=True)\n",
    "toc = time.time()\n",
    "print('That took %fs' % (toc - tic))\n",
    "\n",
    "plt.plot(loss_hist)\n",
    "plt.xlabel('Iteration number')\n",
    "plt.ylabel('Loss value')\n",
    "plt.show()"
   ]
  },
  {
   "cell_type": "code",
   "execution_count": 126,
   "metadata": {},
   "outputs": [
    {
     "name": "stdout",
     "output_type": "stream",
     "text": [
      "iteration 0 / 500: loss 396.676683\n",
      "iteration 100 / 500: loss 240.043365\n",
      "iteration 200 / 500: loss 145.674899\n",
      "iteration 300 / 500: loss 89.155463\n",
      "iteration 400 / 500: loss 54.408635\n",
      "iteration 0 / 500: loss 65.483408\n",
      "iteration 100 / 500: loss 25.279175\n",
      "iteration 200 / 500: loss 10.528178\n",
      "iteration 300 / 500: loss 5.199118\n",
      "iteration 400 / 500: loss 3.145087\n",
      "iteration 0 / 500: loss 2.096139\n",
      "iteration 100 / 500: loss 148.160029\n",
      "iteration 200 / 500: loss 147.470332\n",
      "iteration 300 / 500: loss 116.255377\n",
      "iteration 400 / 500: loss 152.252652\n",
      "iteration 0 / 500: loss 187.016795\n"
     ]
    },
    {
     "name": "stderr",
     "output_type": "stream",
     "text": [
      "/Users/xiaoxiaoma/anaconda/envs/py36/lib/python3.6/site-packages/ipykernel_launcher.py:28: RuntimeWarning: divide by zero encountered in log\n"
     ]
    },
    {
     "name": "stdout",
     "output_type": "stream",
     "text": [
      "iteration 100 / 500: loss inf\n",
      "iteration 200 / 500: loss inf\n",
      "iteration 300 / 500: loss inf\n",
      "iteration 400 / 500: loss inf\n",
      "iteration 0 / 1500: loss 391.018737\n",
      "iteration 100 / 1500: loss 236.055494\n",
      "iteration 200 / 1500: loss 143.498173\n",
      "iteration 300 / 1500: loss 87.462890\n",
      "iteration 400 / 1500: loss 53.580601\n",
      "iteration 500 / 1500: loss 33.194403\n",
      "iteration 600 / 1500: loss 20.875595\n",
      "iteration 700 / 1500: loss 13.312383\n",
      "iteration 800 / 1500: loss 8.808086\n",
      "iteration 900 / 1500: loss 6.010267\n",
      "iteration 1000 / 1500: loss 4.476879\n",
      "iteration 1100 / 1500: loss 3.332182\n",
      "iteration 1200 / 1500: loss 2.770491\n",
      "iteration 1300 / 1500: loss 2.311932\n",
      "iteration 1400 / 1500: loss 2.208156\n",
      "lr 1.000000e-07 reg 2.500000e+04 train accuracy: 0.354000 val accuracy: 0.380000\n",
      "lr 1.000000e-07 reg 5.000000e+04 train accuracy: 0.466000 val accuracy: 0.270000\n",
      "lr 5.000000e-05 reg 2.500000e+04 train accuracy: 0.140000 val accuracy: 0.080000\n",
      "lr 5.000000e-05 reg 5.000000e+04 train accuracy: 0.118000 val accuracy: 0.100000\n",
      "best validation accuracy achieved during cross-validation: 0.280000\n",
      "best hyperparameters are: (1e-07, 25000.0)\n"
     ]
    }
   ],
   "source": [
    "# Use the validation set to tune hyperparameters (regularization strength and\n",
    "# learning rate). You should experiment with different ranges for the learning\n",
    "# rates and regularization strengths; if you are careful you should be able to\n",
    "# get a classification accuracy of about 0.4 on the validation set.\n",
    "learning_rates = [1e-7, 5e-5]\n",
    "regularization_strengths = [2.5e4, 5e4]\n",
    "\n",
    "# results is dictionary mapping tuples of the form\n",
    "# (learning_rate, regularization_strength) to tuples of the form\n",
    "# (training_accuracy, validation_accuracy). The accuracy is simply the fraction\n",
    "# of data points that are correctly classified.\n",
    "results = {}\n",
    "best_val = -1   # The highest validation accuracy that we have seen so far.\n",
    "best_softmax = None # The Softmax object that achieved the highest validation rate.\n",
    "\n",
    "##--------------------- written by me start ---------------------##\n",
    "hyper = ()\n",
    "best_hyper = ()\n",
    "result = ()\n",
    "softmax = Softmax()\n",
    "best_softmax = Softmax()\n",
    "\n",
    "for learning_rate in learning_rates:\n",
    "    for regularization_strength in regularization_strengths:\n",
    "        hyper = (learning_rate, regularization_strength)\n",
    "        loss_hist_train = softmax.train(X_train, y_train, learning_rate = learning_rate, \\\n",
    "                                    reg = regularization_strength, num_iters = 500, \\\n",
    "                                    batch_size = 50, verbose=True)\n",
    "        \n",
    "        y_train_pred = softmax.predict(X_train)\n",
    "        training_accuracy = np.mean(y_train == y_train_pred)\n",
    "        \n",
    "        y_val_pred = softmax.predict(X_val)\n",
    "        validation_accuracy = np.mean(y_val == y_val_pred)\n",
    "        \n",
    "        result = (training_accuracy, validation_accuracy)\n",
    "        results[hyper] = result\n",
    "        \n",
    "        if validation_accuracy > best_val:\n",
    "            best_val = validation_accuracy\n",
    "            best_hyper = hyper\n",
    "        \n",
    "final_loss = best_softmax.train(X_train, y_train, learning_rate = best_hyper[0], \\\n",
    "                            reg = best_hyper[1], num_iters = 1500, batch_size = 200, \\\n",
    "                            verbose = True)        \n",
    "final_y_val_pred = best_softmax.predict(X_val)\n",
    "best_val = np.mean(y_val == final_y_val_pred)\n",
    "\n",
    "##--------------------- written by me end -----------------------##\n",
    "    \n",
    "# Print out results.\n",
    "for lr, reg in sorted(results):\n",
    "    train_accuracy, val_accuracy = results[(lr, reg)]\n",
    "    print('lr %e reg %e train accuracy: %f val accuracy: %f' % (\n",
    "                lr, reg, train_accuracy, val_accuracy))\n",
    "    \n",
    "print('best validation accuracy achieved during cross-validation: %f' % best_val)\n",
    "print('best hyperparameters are: {0}'.format(best_hyper))"
   ]
  },
  {
   "cell_type": "code",
   "execution_count": 127,
   "metadata": {},
   "outputs": [
    {
     "name": "stdout",
     "output_type": "stream",
     "text": [
      "linear SVM on raw pixels final test set accuracy: 0.320000\n"
     ]
    }
   ],
   "source": [
    "# Evaluate the best softmax on test set\n",
    "y_test_pred = best_softmax.predict(X_test)\n",
    "test_accuracy = np.mean(y_test == y_test_pred)\n",
    "print('linear SVM on raw pixels final test set accuracy: %f' % test_accuracy)"
   ]
  },
  {
   "cell_type": "code",
   "execution_count": null,
   "metadata": {},
   "outputs": [],
   "source": []
  }
 ],
 "metadata": {
  "kernelspec": {
   "display_name": "Python 3",
   "language": "python",
   "name": "python3"
  },
  "language_info": {
   "codemirror_mode": {
    "name": "ipython",
    "version": 3
   },
   "file_extension": ".py",
   "mimetype": "text/x-python",
   "name": "python",
   "nbconvert_exporter": "python",
   "pygments_lexer": "ipython3",
   "version": "3.6.4"
  }
 },
 "nbformat": 4,
 "nbformat_minor": 2
}
